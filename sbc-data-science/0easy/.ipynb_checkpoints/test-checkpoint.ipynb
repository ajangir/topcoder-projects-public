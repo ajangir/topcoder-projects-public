{
 "cells": [
  {
   "cell_type": "code",
   "execution_count": null,
   "id": "a4eba4bd",
   "metadata": {},
   "outputs": [],
   "source": [
    "import matplotlib.pyplot as plt\n",
    "import numpy as np\n",
    "from sklearn import datasets, linear_model\n",
    "from sklearn.metrics import mean_squared_error, r2_score"
   ]
  },
  {
   "cell_type": "code",
   "execution_count": null,
   "id": "75bf3155",
   "metadata": {},
   "outputs": [],
   "source": [
    "dataX, dataY = datasets.load_diabetes(return_X_y=True)"
   ]
  },
  {
   "cell_type": "code",
   "execution_count": null,
   "id": "e55a54d8",
   "metadata": {},
   "outputs": [],
   "source": [
    "dataX = dataX[:, np.newaxis, 2]"
   ]
  },
  {
   "cell_type": "code",
   "execution_count": null,
   "id": "55ffb512",
   "metadata": {},
   "outputs": [],
   "source": [
    "trainX = dataX[:-30]\n",
    "testX = dataX[-30:]"
   ]
  },
  {
   "cell_type": "code",
   "execution_count": null,
   "id": "8fcb9f3a",
   "metadata": {},
   "outputs": [],
   "source": [
    "trainY = dataY[:-30]\n",
    "testY = dataY[-30:]"
   ]
  },
  {
   "cell_type": "code",
   "execution_count": null,
   "id": "0e5f0fe7",
   "metadata": {},
   "outputs": [],
   "source": [
    "lr = linear_model.LinearRegression()"
   ]
  },
  {
   "cell_type": "code",
   "execution_count": null,
   "id": "9fe1cf08",
   "metadata": {},
   "outputs": [],
   "source": [
    "lr.fit(trainX, trainY)"
   ]
  },
  {
   "cell_type": "code",
   "execution_count": null,
   "id": "4548f71d",
   "metadata": {},
   "outputs": [],
   "source": [
    "predY = lr.predict(testX)"
   ]
  },
  {
   "cell_type": "code",
   "execution_count": null,
   "id": "6b5e21ce",
   "metadata": {},
   "outputs": [],
   "source": [
    "print(\"Coefficients:\", lr.coef_)"
   ]
  },
  {
   "cell_type": "code",
   "execution_count": null,
   "id": "bdf2e8eb",
   "metadata": {},
   "outputs": [],
   "source": [
    "print(\"Mean squared error: %.2f\" % mean_squared_error(testY, predY))"
   ]
  },
  {
   "cell_type": "code",
   "execution_count": null,
   "id": "1054c189",
   "metadata": {},
   "outputs": [],
   "source": [
    "print(\"Coefficient of determination: %.2f\" % r2_score(testY, predY))"
   ]
  },
  {
   "cell_type": "code",
   "execution_count": null,
   "id": "f8baab0f",
   "metadata": {},
   "outputs": [],
   "source": [
    "plt.scatter(testX, testY, color=\"black\")\n",
    "plt.plot(testX, predY, color=\"blue\", linewidth=3)"
   ]
  },
  {
   "cell_type": "code",
   "execution_count": null,
   "id": "9aa4ded1",
   "metadata": {},
   "outputs": [],
   "source": []
  },
  {
   "cell_type": "code",
   "execution_count": null,
   "id": "d6921d63",
   "metadata": {},
   "outputs": [],
   "source": []
  },
  {
   "cell_type": "code",
   "execution_count": null,
   "id": "a109fc36",
   "metadata": {},
   "outputs": [],
   "source": []
  },
  {
   "cell_type": "code",
   "execution_count": null,
   "id": "8385b49c",
   "metadata": {},
   "outputs": [],
   "source": []
  }
 ],
 "metadata": {
  "kernelspec": {
   "display_name": "Python 3 (ipykernel)",
   "language": "python",
   "name": "python3"
  },
  "language_info": {
   "codemirror_mode": {
    "name": "ipython",
    "version": 3
   },
   "file_extension": ".py",
   "mimetype": "text/x-python",
   "name": "python",
   "nbconvert_exporter": "python",
   "pygments_lexer": "ipython3",
   "version": "3.8.10"
  }
 },
 "nbformat": 4,
 "nbformat_minor": 5
}
